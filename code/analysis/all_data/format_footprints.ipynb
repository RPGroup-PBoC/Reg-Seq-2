{
 "cells": [
  {
   "cell_type": "markdown",
   "id": "d1ac8160-7b9f-4b36-8d0f-444abf90cbf6",
   "metadata": {},
   "source": [
    "# Preparing data for interactive plots"
   ]
  },
  {
   "cell_type": "code",
   "execution_count": 2,
   "id": "5de19194-7b42-4a73-a085-3add20fd43bb",
   "metadata": {},
   "outputs": [
    {
     "data": {
      "text/plain": [
       "3-element Vector{String}:\n",
       " \"#324fa2\"\n",
       " \"#f47c20\"\n",
       " \"#a8cf38\""
      ]
     },
     "execution_count": 2,
     "metadata": {},
     "output_type": "execute_result"
    }
   ],
   "source": [
    "# Get packages\n",
    "using CSV, DataFrames, wgregseq, CairoMakie, Statistics, DelimitedFiles, Dates, Colors, FASTX, BioSequences, ProgressMeter\n",
    "\n",
    "# Set colors and plotting style\n",
    "wgregseq.viz.default_makie!()\n",
    "update_theme!(Theme(font = \"Lato\", titlefont=\"Lato\"))\n",
    "colors_dict = wgregseq.viz.my_color_dict\n",
    "colors = [colors_dict[\"blue1\"], colors_dict[\"orange1\"], colors_dict[\"green1\"]]"
   ]
  },
  {
   "attachments": {},
   "cell_type": "markdown",
   "id": "8488f31b-152d-4c82-8a92-d1350fad773a",
   "metadata": {},
   "source": [
    "## Import mapping data\n",
    "\n",
    "Import the table mapping barcodes to promoter variants and filter out anything that has less than 3 reads, as well as anything with more than 30 mutations."
   ]
  },
  {
   "cell_type": "code",
   "execution_count": 2,
   "id": "4d6485b2-120b-488c-8f90-2eb213b003ce",
   "metadata": {},
   "outputs": [],
   "source": [
    "df_map = CSV.read(\n",
    "    \"../../../data/barcode_maps/20220514_mapping/mapped_barcodes_filtered.csv\", \n",
    "    DataFrame, \n",
    ");"
   ]
  },
  {
   "cell_type": "code",
   "execution_count": 3,
   "id": "afa72c83-9a04-4e54-87f0-303b1fe82b76",
   "metadata": {},
   "outputs": [],
   "source": [
    "# Filter out unnannotad sequences\n",
    "df_map = df_map[df_map.name .!= \"*\", :]\n",
    "\n",
    "# Filter out non-unique barcodes\n",
    "gdf = groupby(df_map[(df_map.counts .> 2), :], :barcode)\n",
    "_df = DataFrame()\n",
    "for df in gdf\n",
    "    if nrow(df) == 1\n",
    "        append!(_df, df)\n",
    "    end\n",
    "end\n",
    "df_map = copy(_df);"
   ]
  },
  {
   "cell_type": "code",
   "execution_count": 4,
   "id": "3c78a8db-9591-4db9-9102-f33a367ca98f",
   "metadata": {},
   "outputs": [
    {
     "data": {
      "text/html": [
       "<div><div style = \"float: left;\"><span>5316504×4 DataFrame</span></div><div style = \"float: right;\"><span style = \"font-style: italic;\">5316479 rows omitted</span></div><div style = \"clear: both;\"></div></div><div class = \"data-frame\" style = \"overflow-x: scroll;\"><table class = \"data-frame\" style = \"margin-bottom: 6px;\"><thead><tr class = \"header\"><th class = \"rowNumber\" style = \"font-weight: bold; text-align: right;\">Row</th><th style = \"text-align: left;\">promoter</th><th style = \"text-align: left;\">barcode</th><th style = \"text-align: left;\">counts</th><th style = \"text-align: left;\">name</th></tr><tr class = \"subheader headerLastRow\"><th class = \"rowNumber\" style = \"font-weight: bold; text-align: right;\"></th><th title = \"String\" style = \"text-align: left;\">String</th><th title = \"String31\" style = \"text-align: left;\">String31</th><th title = \"Int64\" style = \"text-align: left;\">Int64</th><th title = \"String\" style = \"text-align: left;\">String</th></tr></thead><tbody><tr><td class = \"rowNumber\" style = \"font-weight: bold; text-align: right;\">1</td><td style = \"text-align: left;\">GAAGACGACAAACTCATTCATCTCATGGCTGCCGTAGGAGACCGTGAGTGGTAATACGATAACGCACTCACCATAGATGTGTACTGTAAAGATTTCCCTGGCTTTTATGACTGGATGGAATACCCCGGTCACCCAGTTAAGTTTGTTTTTCACATACATG</td><td style = \"text-align: left;\">TTGTTATGATTTATTCTATG</td><td style = \"text-align: right;\">183</td><td style = \"text-align: left;\">TSS_1414_storz_regulondb</td></tr><tr><td class = \"rowNumber\" style = \"font-weight: bold; text-align: right;\">2</td><td style = \"text-align: left;\">GAAGACGACAAACTCATTCATCTCATGGCTGCCGTAGGAGACCGTGAGTGGTAATACGATAACGCACTCACCATAGATGTGTACTGTAAAGATTTCCCTGGCTTTTATGACTGGATGGAATACCCCGGTCACCCAGTTAAGTTTGTTTTTCACATACATG</td><td style = \"text-align: left;\">AGCAACGTCTACGTTGGTAT</td><td style = \"text-align: right;\">146</td><td style = \"text-align: left;\">TSS_1414_storz_regulondb</td></tr><tr><td class = \"rowNumber\" style = \"font-weight: bold; text-align: right;\">3</td><td style = \"text-align: left;\">GAAGACGACAAACTCATTCATCTCATGGCTGCCGTAGGAGACCGTGAGTGGTAATACGATAACGCACTCACCATAGATGTGTACTGTAAAGATTTCCCTGGCTTTTATGACTGGATGGAATACCCCGGTCACCCAGTTAAGTTTGTTTTTCACATACATG</td><td style = \"text-align: left;\">AAGCAACTCGCTGAAGAATT</td><td style = \"text-align: right;\">141</td><td style = \"text-align: left;\">TSS_1414_storz_regulondb</td></tr><tr><td class = \"rowNumber\" style = \"font-weight: bold; text-align: right;\">4</td><td style = \"text-align: left;\">GAAGACGACAAACTCATTCATCTCATGGCTGCCGTAGGAGACCGTGAGTGGTAATACGATAACGCACTCACCATAGATGTGTACTGTAAAGATTTCCCTGGCTTTTATGACTGGATGGAATACCCCGGTCACCCAGTTAAGTTTGTTTTTCACATACATG</td><td style = \"text-align: left;\">GATCTCCCTGCTCTGGAATG</td><td style = \"text-align: right;\">128</td><td style = \"text-align: left;\">TSS_1414_storz_regulondb</td></tr><tr><td class = \"rowNumber\" style = \"font-weight: bold; text-align: right;\">5</td><td style = \"text-align: left;\">GAAGACGACAAACTCATTCATCTCATGGCTGCCGTAGGAGACCGTGAGTGGTAATACGATAACGCACTCACCATAGATGTGTACTGTAAAGATTTCCCTGGCTTTTATGACTGGATGGAATACCCCGGTCACCCAGTTAAGTTTGTTTTTCACATACATG</td><td style = \"text-align: left;\">AGGGGGAATCAAGTAACTTA</td><td style = \"text-align: right;\">108</td><td style = \"text-align: left;\">TSS_1414_storz_regulondb</td></tr><tr><td class = \"rowNumber\" style = \"font-weight: bold; text-align: right;\">6</td><td style = \"text-align: left;\">GAAGACGACAAACTCATTCATCTCATGGCTGCCGTAGGAGACCGTGAGTGGTAATACGATAACGCACTCACCATAGATGTGTACTGTAAAGATTTCCCTGGCTTTTATGACTGGATGGAATACCCCGGTCACCCAGTTAAGTTTGTTTTTCACATACATG</td><td style = \"text-align: left;\">GGGTAGATCGGACCTGCAGG</td><td style = \"text-align: right;\">107</td><td style = \"text-align: left;\">TSS_1414_storz_regulondb</td></tr><tr><td class = \"rowNumber\" style = \"font-weight: bold; text-align: right;\">7</td><td style = \"text-align: left;\">GAAGACGACAAACTCATTCATCTCATGGCTGCCGTAGGAGACCGTGAGTGGTAATACGATAACGCACTCACCATAGATGTGTACTGTAAAGATTTCCCTGGCTTTTATGACTGGATGGAATACCCCGGTCACCCAGTTAAGTTTGTTTTTCACATACATG</td><td style = \"text-align: left;\">TTACTCTTCTCGCCTTTTTA</td><td style = \"text-align: right;\">96</td><td style = \"text-align: left;\">TSS_1414_storz_regulondb</td></tr><tr><td class = \"rowNumber\" style = \"font-weight: bold; text-align: right;\">8</td><td style = \"text-align: left;\">GAAGACGACAAACTCATTCATCTCATGGCTGCCGTAGGAGACCGTGAGTGGTAATACGATAACGCACTCACCATAGATGTGTACTGTAAAGATTTCCCTGGCTTTTATGACTGGATGGAATACCCCGGTCACCCAGTTAAGTTTGTTTTTCACATACATG</td><td style = \"text-align: left;\">GCAGTTACGCGTGAAAATGT</td><td style = \"text-align: right;\">84</td><td style = \"text-align: left;\">TSS_1414_storz_regulondb</td></tr><tr><td class = \"rowNumber\" style = \"font-weight: bold; text-align: right;\">9</td><td style = \"text-align: left;\">GAAGACGACAAACTCATTCATCTCATGGCTGCCGTAGGAGACCGTGAGTGGTAATACGATAACGCACTCACCATAGATGTGTACTGTAAAGATTTCCCTGGCTTTTATGACTGGATGGAATACCCCGGTCACCCAGTTAAGTTTGTTTTTCACATACATG</td><td style = \"text-align: left;\">CAGCAGCTGCCATTTGAAAG</td><td style = \"text-align: right;\">71</td><td style = \"text-align: left;\">TSS_1414_storz_regulondb</td></tr><tr><td class = \"rowNumber\" style = \"font-weight: bold; text-align: right;\">10</td><td style = \"text-align: left;\">GAAGACGACAAACTCATTCATCTCATGGCTGCCGTAGGAGACCGTGAGTGGTAATACGATAACGCACTCACCATAGATGTGTACTGTAAAGATTTCCCTGGCTTTTATGACTGGATGGAATACCCCGGTCACCCAGTTAAGTTTGTTTTTCACATACATG</td><td style = \"text-align: left;\">CGCGAGTGAAATCGTTCGGT</td><td style = \"text-align: right;\">62</td><td style = \"text-align: left;\">TSS_1414_storz_regulondb</td></tr><tr><td class = \"rowNumber\" style = \"font-weight: bold; text-align: right;\">11</td><td style = \"text-align: left;\">GAAGACGACAAACTCATTCATCTCATGGCTGCCGTAGGAGACCGTGAGTGGTAATACGATAACGCACTCACCATAGATGTGTACTGTAAAGATTTCCCTGGCTTTTATGACTGGATGGAATACCCCGGTCACCCAGTTAAGTTTGTTTTTCACATACATG</td><td style = \"text-align: left;\">ATAAGCTGGAACCGTGAACC</td><td style = \"text-align: right;\">59</td><td style = \"text-align: left;\">TSS_1414_storz_regulondb</td></tr><tr><td class = \"rowNumber\" style = \"font-weight: bold; text-align: right;\">12</td><td style = \"text-align: left;\">GAAGACGACAAACTCATTCATCTCATGGCTGCCGTAGGAGACCGTGAGTGGTAATACGATAACGCACTCACCATAGATGTGTACTGTAAAGATTTCCCTGGCTTTTATGACTGGATGGAATACCCCGGTCACCCAGTTAAGTTTGTTTTTCACATACATG</td><td style = \"text-align: left;\">CTTATGATTCGTCTATCGTC</td><td style = \"text-align: right;\">54</td><td style = \"text-align: left;\">TSS_1414_storz_regulondb</td></tr><tr><td class = \"rowNumber\" style = \"font-weight: bold; text-align: right;\">13</td><td style = \"text-align: left;\">GAAGACGACAAACTCATTCATCTCATGGCTGCCGTAGGAGACCGTGAGTGGTAATACGATAACGCACTCACCATAGATGTGTACTGTAAAGATTTCCCTGGCTTTTATGACTGGATGGAATACCCCGGTCACCCAGTTAAGTTTGTTTTTCACATACATG</td><td style = \"text-align: left;\">GTTCATGGGAGCCAATTGCG</td><td style = \"text-align: right;\">53</td><td style = \"text-align: left;\">TSS_1414_storz_regulondb</td></tr><tr><td style = \"text-align: right;\">&vellip;</td><td style = \"text-align: right;\">&vellip;</td><td style = \"text-align: right;\">&vellip;</td><td style = \"text-align: right;\">&vellip;</td><td style = \"text-align: right;\">&vellip;</td></tr><tr><td class = \"rowNumber\" style = \"font-weight: bold; text-align: right;\">5316493</td><td style = \"text-align: left;\">GTGTTGCACCTCCTCAGAGAGCGGCTGAGAATGATTCGAAAAGAAGCGTTTTTTTATGTAACGTAATGCGACCAATAATCGTAATTAATGTGAGAAGTGTGATATTATCACATTTCATGACTTCTGCAAGACTGAAGTTAACCGCACAAGTCTGGGTTCC</td><td style = \"text-align: left;\">GTCAGAGGTAAAAATCACAC</td><td style = \"text-align: right;\">5</td><td style = \"text-align: left;\">znuCp</td></tr><tr><td class = \"rowNumber\" style = \"font-weight: bold; text-align: right;\">5316494</td><td style = \"text-align: left;\">GTGTTGCACCTCCTCAGAGAGCGGCTGAGAATGATTCGAAAAGAAGCGTTTTTTTATGTAACGTAATGCGACCAATAATCGTAATTAATGTGAGAAGTGTGATATTATCACATTTCATGACTTCTGCAAGACTGAAGTTAACCGCACAAGTCTGGGTTCC</td><td style = \"text-align: left;\">AATCATTCTAAATCGATTCT</td><td style = \"text-align: right;\">4</td><td style = \"text-align: left;\">znuCp</td></tr><tr><td class = \"rowNumber\" style = \"font-weight: bold; text-align: right;\">5316495</td><td style = \"text-align: left;\">GTGTTGCACCTCCTCAGAGAGCGGCTGAGAATGATTCGAAAAGAAGCGTTTTTTTATGTAACGTAATGCGACCAATAATCGTAATTAATGTGAGAAGTGTGATATTATCACATTTCATGACTTCTGCAAGACTGAAGTTAACCGCACAAGTCTGGGTTCC</td><td style = \"text-align: left;\">TACGATTTTAGCACTAACTG</td><td style = \"text-align: right;\">3</td><td style = \"text-align: left;\">znuCp</td></tr><tr><td class = \"rowNumber\" style = \"font-weight: bold; text-align: right;\">5316496</td><td style = \"text-align: left;\">GTGTTGCACCTCCTCAGAGAGCGGCTGAGAATGATTCGAAAAGAAGCGTTTTTTTATGTAACGTAATGCGACCAATAATCGTAATTAATGTGAGAAGTGTGATATTATCACATTTCATGACTTCTGCAAGACTGAAGTTAACCGCACAAGTCTGGGTTCC</td><td style = \"text-align: left;\">GTGATTTTAGTCTTCAAAGT</td><td style = \"text-align: right;\">3</td><td style = \"text-align: left;\">znuCp</td></tr><tr><td class = \"rowNumber\" style = \"font-weight: bold; text-align: right;\">5316497</td><td style = \"text-align: left;\">GTGTTGCACCTCCTCAGAGAGCGGCTGAGAATGATTCGAAAAGAAGCGTTTTTTTATGTAACGTAATGCGACCAATAATCGTAATTAATGTGAGAAGTGTGATATTATCACATTTCATGACTTCTGCAAGACTGAAGTTAACCGCACAAGTCTGGGTTCC</td><td style = \"text-align: left;\">CTAATAGATGGCAGCGTTCC</td><td style = \"text-align: right;\">3</td><td style = \"text-align: left;\">znuCp</td></tr><tr><td class = \"rowNumber\" style = \"font-weight: bold; text-align: right;\">5316498</td><td style = \"text-align: left;\">GTGTTGCACCTCCTCAGAGAGCGGCTGAGAATGATTCGAAAAGAAGCGTTTTTTTATGTAACGTAATGCGACCAATAATCGTAATTAATGTGAGAAGTGTGATATTATCACATTTCATGACTTCTGCAAGACTGAAGTTAACCGCACAAGTCTGGGTTCC</td><td style = \"text-align: left;\">ACCTCGGGGGGCCTTAGGAA</td><td style = \"text-align: right;\">3</td><td style = \"text-align: left;\">znuCp</td></tr><tr><td class = \"rowNumber\" style = \"font-weight: bold; text-align: right;\">5316499</td><td style = \"text-align: left;\">GTGATGGACCTCCCCATAGAACCGCGCATAATTCTGCGAAACGTAGCGTTTTTTTAGGTAACATAATGCGACCAATAATCGTAATGAATATGAGACGTGTTATTTTATAACATTTCACGACTACTGCAAGACTAAAATTAATATGACAACTCTGGTTTCC</td><td style = \"text-align: left;\">TTCGATGAAACCTGAGGGAA</td><td style = \"text-align: right;\">5</td><td style = \"text-align: left;\">znuCp</td></tr><tr><td class = \"rowNumber\" style = \"font-weight: bold; text-align: right;\">5316500</td><td style = \"text-align: left;\">GTGATGGACCTCCCCATAGAACCGCGCATAATTCTGCGAAACGTAGCGTTTTTTTAGGTAACATAATGCGACCAATAATCGTAATGAATATGAGACGTGTTATTTTATAACATTTCACGACTACTGCAAGACTAAAATTAATATGACAACTCTGGTTTCC</td><td style = \"text-align: left;\">CTATATACAAGATGAATTGA</td><td style = \"text-align: right;\">4</td><td style = \"text-align: left;\">znuCp</td></tr><tr><td class = \"rowNumber\" style = \"font-weight: bold; text-align: right;\">5316501</td><td style = \"text-align: left;\">GTGATGGACCTCCCCATAGAACCGCGCATAATTCTGCGAAACGTAGCGTTTTTTTAGGTAACATAATGCGACCAATAATCGTAATGAATATGAGACGTGTTATTTTATAACATTTCACGACTACTGCAAGACTAAAATTAATATGACAACTCTGGTTTCC</td><td style = \"text-align: left;\">ATTTGCTTGTGCCATTGAGC</td><td style = \"text-align: right;\">4</td><td style = \"text-align: left;\">znuCp</td></tr><tr><td class = \"rowNumber\" style = \"font-weight: bold; text-align: right;\">5316502</td><td style = \"text-align: left;\">GTGATGGACCTCCCCATAGAACCGCGCATAATTCTGCGAAACGTAGCGTTTTTTTAGGTAACATAATGCGACCAATAATCGTAATGAATATGAGACGTGTTATTTTATAACATTTCACGACTACTGCAAGACTAAAATTAATATGACAACTCTGGTTTCC</td><td style = \"text-align: left;\">TGTGCTACGGTCAGCTCAAC</td><td style = \"text-align: right;\">3</td><td style = \"text-align: left;\">znuCp</td></tr><tr><td class = \"rowNumber\" style = \"font-weight: bold; text-align: right;\">5316503</td><td style = \"text-align: left;\">GTGATGGACCTCCCCATAGAACCGCGCATAATTCTGCGAAACGTAGCGTTTTTTTAGGTAACATAATGCGACCAATAATCGTAATGAATATGAGACGTGTTATTTTATAACATTTCACGACTACTGCAAGACTAAAATTAATATGACAACTCTGGTTTCC</td><td style = \"text-align: left;\">CAGGCTAGTCACAATACTTT</td><td style = \"text-align: right;\">3</td><td style = \"text-align: left;\">znuCp</td></tr><tr><td class = \"rowNumber\" style = \"font-weight: bold; text-align: right;\">5316504</td><td style = \"text-align: left;\">GTGATGGACCTCCCCATAGAACCGCGCATAATTCTGCGAAACGTAGCGTTTTTTTAGGTAACATAATGCGACCAATAATCGTAATGAATATGAGACGTGTTATTTTATAACATTTCACGACTACTGCAAGACTAAAATTAATATGACAACTCTGGTTTCC</td><td style = \"text-align: left;\">AAAGTATTGAGAAGTCAAGC</td><td style = \"text-align: right;\">3</td><td style = \"text-align: left;\">znuCp</td></tr></tbody></table></div>"
      ],
      "text/latex": [
       "\\begin{tabular}{r|cc}\n",
       "\t& promoter & \\\\\n",
       "\t\\hline\n",
       "\t& String & \\\\\n",
       "\t\\hline\n",
       "\t1 & GAAGACGACAAACTCATTCATCTCATGGCTGCCGTAGGAGACCGTGAGTGGTAATACGATAACGCACTCACCATAGATGTGTACTGTAAAGATTTCCCTGGCTTTTATGACTGGATGGAATACCCCGGTCACCCAGTTAAGTTTGTTTTTCACATACATG & $\\dots$ \\\\\n",
       "\t2 & GAAGACGACAAACTCATTCATCTCATGGCTGCCGTAGGAGACCGTGAGTGGTAATACGATAACGCACTCACCATAGATGTGTACTGTAAAGATTTCCCTGGCTTTTATGACTGGATGGAATACCCCGGTCACCCAGTTAAGTTTGTTTTTCACATACATG & $\\dots$ \\\\\n",
       "\t3 & GAAGACGACAAACTCATTCATCTCATGGCTGCCGTAGGAGACCGTGAGTGGTAATACGATAACGCACTCACCATAGATGTGTACTGTAAAGATTTCCCTGGCTTTTATGACTGGATGGAATACCCCGGTCACCCAGTTAAGTTTGTTTTTCACATACATG & $\\dots$ \\\\\n",
       "\t4 & GAAGACGACAAACTCATTCATCTCATGGCTGCCGTAGGAGACCGTGAGTGGTAATACGATAACGCACTCACCATAGATGTGTACTGTAAAGATTTCCCTGGCTTTTATGACTGGATGGAATACCCCGGTCACCCAGTTAAGTTTGTTTTTCACATACATG & $\\dots$ \\\\\n",
       "\t5 & GAAGACGACAAACTCATTCATCTCATGGCTGCCGTAGGAGACCGTGAGTGGTAATACGATAACGCACTCACCATAGATGTGTACTGTAAAGATTTCCCTGGCTTTTATGACTGGATGGAATACCCCGGTCACCCAGTTAAGTTTGTTTTTCACATACATG & $\\dots$ \\\\\n",
       "\t6 & GAAGACGACAAACTCATTCATCTCATGGCTGCCGTAGGAGACCGTGAGTGGTAATACGATAACGCACTCACCATAGATGTGTACTGTAAAGATTTCCCTGGCTTTTATGACTGGATGGAATACCCCGGTCACCCAGTTAAGTTTGTTTTTCACATACATG & $\\dots$ \\\\\n",
       "\t7 & GAAGACGACAAACTCATTCATCTCATGGCTGCCGTAGGAGACCGTGAGTGGTAATACGATAACGCACTCACCATAGATGTGTACTGTAAAGATTTCCCTGGCTTTTATGACTGGATGGAATACCCCGGTCACCCAGTTAAGTTTGTTTTTCACATACATG & $\\dots$ \\\\\n",
       "\t8 & GAAGACGACAAACTCATTCATCTCATGGCTGCCGTAGGAGACCGTGAGTGGTAATACGATAACGCACTCACCATAGATGTGTACTGTAAAGATTTCCCTGGCTTTTATGACTGGATGGAATACCCCGGTCACCCAGTTAAGTTTGTTTTTCACATACATG & $\\dots$ \\\\\n",
       "\t9 & GAAGACGACAAACTCATTCATCTCATGGCTGCCGTAGGAGACCGTGAGTGGTAATACGATAACGCACTCACCATAGATGTGTACTGTAAAGATTTCCCTGGCTTTTATGACTGGATGGAATACCCCGGTCACCCAGTTAAGTTTGTTTTTCACATACATG & $\\dots$ \\\\\n",
       "\t10 & GAAGACGACAAACTCATTCATCTCATGGCTGCCGTAGGAGACCGTGAGTGGTAATACGATAACGCACTCACCATAGATGTGTACTGTAAAGATTTCCCTGGCTTTTATGACTGGATGGAATACCCCGGTCACCCAGTTAAGTTTGTTTTTCACATACATG & $\\dots$ \\\\\n",
       "\t11 & GAAGACGACAAACTCATTCATCTCATGGCTGCCGTAGGAGACCGTGAGTGGTAATACGATAACGCACTCACCATAGATGTGTACTGTAAAGATTTCCCTGGCTTTTATGACTGGATGGAATACCCCGGTCACCCAGTTAAGTTTGTTTTTCACATACATG & $\\dots$ \\\\\n",
       "\t12 & GAAGACGACAAACTCATTCATCTCATGGCTGCCGTAGGAGACCGTGAGTGGTAATACGATAACGCACTCACCATAGATGTGTACTGTAAAGATTTCCCTGGCTTTTATGACTGGATGGAATACCCCGGTCACCCAGTTAAGTTTGTTTTTCACATACATG & $\\dots$ \\\\\n",
       "\t13 & GAAGACGACAAACTCATTCATCTCATGGCTGCCGTAGGAGACCGTGAGTGGTAATACGATAACGCACTCACCATAGATGTGTACTGTAAAGATTTCCCTGGCTTTTATGACTGGATGGAATACCCCGGTCACCCAGTTAAGTTTGTTTTTCACATACATG & $\\dots$ \\\\\n",
       "\t14 & GAAGACGACAAACTCATTCATCTCATGGCTGCCGTAGGAGACCGTGAGTGGTAATACGATAACGCACTCACCATAGATGTGTACTGTAAAGATTTCCCTGGCTTTTATGACTGGATGGAATACCCCGGTCACCCAGTTAAGTTTGTTTTTCACATACATG & $\\dots$ \\\\\n",
       "\t15 & GAAGACGACAAACTCATTCATCTCATGGCTGCCGTAGGAGACCGTGAGTGGTAATACGATAACGCACTCACCATAGATGTGTACTGTAAAGATTTCCCTGGCTTTTATGACTGGATGGAATACCCCGGTCACCCAGTTAAGTTTGTTTTTCACATACATG & $\\dots$ \\\\\n",
       "\t16 & GAAGACGACAAACTCATTCATCTCATGGCTGCCGTAGGAGACCGTGAGTGGTAATACGATAACGCACTCACCATAGATGTGTACTGTAAAGATTTCCCTGGCTTTTATGACTGGATGGAATACCCCGGTCACCCAGTTAAGTTTGTTTTTCACATACATG & $\\dots$ \\\\\n",
       "\t17 & GAAGACGACAAACTCATTCATCTCATGGCTGCCGTAGGAGACCGTGAGTGGTAATACGATAACGCACTCACCATAGATGTGTACTGTAAAGATTTCCCTGGCTTTTATGACTGGATGGAATACCCCGGTCACCCAGTTAAGTTTGTTTTTCACATACATG & $\\dots$ \\\\\n",
       "\t18 & GAAGACGACAAACTCATTCATCTCATGGCTGCCGTAGGAGACCGTGAGTGGTAATACGATAACGCACTCACCATAGATGTGTACTGTAAAGATTTCCCTGGCTTTTATGACTGGATGGAATACCCCGGTCACCCAGTTAAGTTTGTTTTTCACATACATG & $\\dots$ \\\\\n",
       "\t19 & GAAGACGACAAACTCATTCATCTCATGGCTGCCGTAGGAGACCGTGAGTGGTAATACGATAACGCACTCACCATAGATGTGTACTGTAAAGATTTCCCTGGCTTTTATGACTGGATGGAATACCCCGGTCACCCAGTTAAGTTTGTTTTTCACATACATG & $\\dots$ \\\\\n",
       "\t20 & GAAGACGACAAACTCATTCATCTCATGGCTGCCGTAGGAGACCGTGAGTGGTAATACGATAACGCACTCACCATAGATGTGTACTGTAAAGATTTCCCTGGCTTTTATGACTGGATGGAATACCCCGGTCACCCAGTTAAGTTTGTTTTTCACATACATG & $\\dots$ \\\\\n",
       "\t21 & GAAGACGACAAACTCATTCATCTCATGGCTGCCGTAGGAGACCGTGAGTGGTAATACGATAACGCACTCACCATAGATGTGTACTGTAAAGATTTCCCTGGCTTTTATGACTGGATGGAATACCCCGGTCACCCAGTTAAGTTTGTTTTTCACATACATG & $\\dots$ \\\\\n",
       "\t22 & GAAGACGACAAACTCATTCATCTCATGGCTGCCGTAGGAGACCGTGAGTGGTAATACGATAACGCACTCACCATAGATGTGTACTGTAAAGATTTCCCTGGCTTTTATGACTGGATGGAATACCCCGGTCACCCAGTTAAGTTTGTTTTTCACATACATG & $\\dots$ \\\\\n",
       "\t23 & GAAGACGACAAACTCATTCATCTCATGGCTGCCGTAGGAGACCGTGAGTGGTAATACGATAACGCACTCACCATAGATGTGTACTGTAAAGATTTCCCTGGCTTTTATGACTGGATGGAATACCCCGGTCACCCAGTTAAGTTTGTTTTTCACATACATG & $\\dots$ \\\\\n",
       "\t24 & GAAGACGACAAACTCATTCATCTCATGGCTGCCGTAGGAGACCGTGAGTGGTAATACGATAACGCACTCACCATAGATGTGTACTGTAAAGATTTCCCTGGCTTTTATGACTGGATGGAATACCCCGGTCACCCAGTTAAGTTTGTTTTTCACATACATG & $\\dots$ \\\\\n",
       "\t25 & GAAGACGACAAACTCATTCATCTCATGGCTGCCGTAGGAGACCGTGAGTGGTAATACGATAACGCACTCACCATAGATGTGTACTGTAAAGATTTCCCTGGCTTTTATGACTGGATGGAATACCCCGGTCACCCAGTTAAGTTTGTTTTTCACATACATG & $\\dots$ \\\\\n",
       "\t26 & GAAGACGACAAACTCATTCATCTCATGGCTGCCGTAGGAGACCGTGAGTGGTAATACGATAACGCACTCACCATAGATGTGTACTGTAAAGATTTCCCTGGCTTTTATGACTGGATGGAATACCCCGGTCACCCAGTTAAGTTTGTTTTTCACATACATG & $\\dots$ \\\\\n",
       "\t27 & GAAGACGACAAACTCATTCATCTCATGGCTGCCGTAGGAGACCGTGAGTGGTAATACGATAACGCACTCACCATAGATGTGTACTGTAAAGATTTCCCTGGCTTTTATGACTGGATGGAATACCCCGGTCACCCAGTTAAGTTTGTTTTTCACATACATG & $\\dots$ \\\\\n",
       "\t28 & GAAGACGACAAACTCATTCATCTCATGGCTGCCGTAGGAGACCGTGAGTGGTAATACGATAACGCACTCACCATAGATGTGTACTGTAAAGATTTCCCTGGCTTTTATGACTGGATGGAATACCCCGGTCACCCAGTTAAGTTTGTTTTTCACATACATG & $\\dots$ \\\\\n",
       "\t29 & GAAGACGACAAACTCATTCATCTCATGGCTGCCGTAGGAGACCGTGAGTGGTAATACGATAACGCACTCACCATAGATGTGTACTGTAAAGATTTCCCTGGCTTTTATGACTGGATGGAATACCCCGGTCACCCAGTTAAGTTTGTTTTTCACATACATG & $\\dots$ \\\\\n",
       "\t30 & GAAGACGACAAACTCATTCATCTCATGGCTGCCGTAGGAGACCGTGAGTGGTAATACGATAACGCACTCACCATAGATGTGTACTGTAAAGATTTCCCTGGCTTTTATGACTGGATGGAATACCCCGGTCACCCAGTTAAGTTTGTTTTTCACATACATG & $\\dots$ \\\\\n",
       "\t$\\dots$ & $\\dots$ &  \\\\\n",
       "\\end{tabular}\n"
      ],
      "text/plain": [
       "\u001b[1m5316504×4 DataFrame\u001b[0m\n",
       "\u001b[1m     Row \u001b[0m│\u001b[1m promoter                          \u001b[0m\u001b[1m barcode              \u001b[0m\u001b[1m counts \u001b[0m\u001b[1m na\u001b[0m ⋯\n",
       "         │\u001b[90m String                            \u001b[0m\u001b[90m String31             \u001b[0m\u001b[90m Int64  \u001b[0m\u001b[90m St\u001b[0m ⋯\n",
       "─────────┼──────────────────────────────────────────────────────────────────────\n",
       "       1 │ GAAGACGACAAACTCATTCATCTCATGGCTGC…  TTGTTATGATTTATTCTATG     183  TS ⋯\n",
       "       2 │ GAAGACGACAAACTCATTCATCTCATGGCTGC…  AGCAACGTCTACGTTGGTAT     146  TS\n",
       "       3 │ GAAGACGACAAACTCATTCATCTCATGGCTGC…  AAGCAACTCGCTGAAGAATT     141  TS\n",
       "       4 │ GAAGACGACAAACTCATTCATCTCATGGCTGC…  GATCTCCCTGCTCTGGAATG     128  TS\n",
       "       5 │ GAAGACGACAAACTCATTCATCTCATGGCTGC…  AGGGGGAATCAAGTAACTTA     108  TS ⋯\n",
       "       6 │ GAAGACGACAAACTCATTCATCTCATGGCTGC…  GGGTAGATCGGACCTGCAGG     107  TS\n",
       "       7 │ GAAGACGACAAACTCATTCATCTCATGGCTGC…  TTACTCTTCTCGCCTTTTTA      96  TS\n",
       "       8 │ GAAGACGACAAACTCATTCATCTCATGGCTGC…  GCAGTTACGCGTGAAAATGT      84  TS\n",
       "       9 │ GAAGACGACAAACTCATTCATCTCATGGCTGC…  CAGCAGCTGCCATTTGAAAG      71  TS ⋯\n",
       "      10 │ GAAGACGACAAACTCATTCATCTCATGGCTGC…  CGCGAGTGAAATCGTTCGGT      62  TS\n",
       "      11 │ GAAGACGACAAACTCATTCATCTCATGGCTGC…  ATAAGCTGGAACCGTGAACC      59  TS\n",
       "    ⋮    │                 ⋮                           ⋮              ⋮        ⋱\n",
       " 5316495 │ GTGTTGCACCTCCTCAGAGAGCGGCTGAGAAT…  TACGATTTTAGCACTAACTG       3  zn\n",
       " 5316496 │ GTGTTGCACCTCCTCAGAGAGCGGCTGAGAAT…  GTGATTTTAGTCTTCAAAGT       3  zn ⋯\n",
       " 5316497 │ GTGTTGCACCTCCTCAGAGAGCGGCTGAGAAT…  CTAATAGATGGCAGCGTTCC       3  zn\n",
       " 5316498 │ GTGTTGCACCTCCTCAGAGAGCGGCTGAGAAT…  ACCTCGGGGGGCCTTAGGAA       3  zn\n",
       " 5316499 │ GTGATGGACCTCCCCATAGAACCGCGCATAAT…  TTCGATGAAACCTGAGGGAA       5  zn\n",
       " 5316500 │ GTGATGGACCTCCCCATAGAACCGCGCATAAT…  CTATATACAAGATGAATTGA       4  zn ⋯\n",
       " 5316501 │ GTGATGGACCTCCCCATAGAACCGCGCATAAT…  ATTTGCTTGTGCCATTGAGC       4  zn\n",
       " 5316502 │ GTGATGGACCTCCCCATAGAACCGCGCATAAT…  TGTGCTACGGTCAGCTCAAC       3  zn\n",
       " 5316503 │ GTGATGGACCTCCCCATAGAACCGCGCATAAT…  CAGGCTAGTCACAATACTTT       3  zn\n",
       " 5316504 │ GTGATGGACCTCCCCATAGAACCGCGCATAAT…  AAAGTATTGAGAAGTCAAGC       3  zn ⋯\n",
       "\u001b[36m                                               1 column and 5316483 rows omitted\u001b[0m"
      ]
     },
     "execution_count": 4,
     "metadata": {},
     "output_type": "execute_result"
    }
   ],
   "source": [
    "df_map"
   ]
  },
  {
   "cell_type": "code",
   "execution_count": 5,
   "id": "502b17a1-2077-4b3b-83db-0ae4e4a408f9",
   "metadata": {},
   "outputs": [],
   "source": [
    "# Get twist order to get wild type sequences\n",
    "df_seqs = wgregseq.utils.import_twist_order(\"../../../data/twist_orders/2022-02-15_twist_order.csv\")\n",
    "df_wt = df_seqs[1:1501:119*1501, :];\n",
    "insertcols!(df_wt, 4, :promoter_seq => [string(x[27:186]) for x in df_wt.sequence])\n",
    "\n",
    "df_wt.promoter_seq |> unique |> length\n",
    "df_map = leftjoin(df_map, rename(df_wt[!, [:promoter, :promoter_seq]], :promoter => :name), on=\"name\")\n",
    "rename!(df_map, :promoter_seq => :wt_seq);"
   ]
  },
  {
   "cell_type": "markdown",
   "id": "c1d56230",
   "metadata": {},
   "source": [
    "## Import barcode data"
   ]
  },
  {
   "cell_type": "code",
   "execution_count": 30,
   "id": "f1a3ba6e-4ca0-4856-ae2a-4d5f61851b3a",
   "metadata": {},
   "outputs": [
    {
     "name": "stdout",
     "output_type": "stream",
     "text": [
      "11-2\n",
      "11-2 done\n",
      "21-1\n",
      "21-1 done\n",
      "4-2\n",
      "4-2 done\n",
      "1-1\n",
      "1-1 done\n",
      "10-1\n",
      "10-1 done\n",
      "12-1\n",
      "12-1 done\n",
      "13-1\n",
      "13-1 done\n",
      "2-1\n",
      "2-1 done\n",
      "3-1\n",
      "3-1 done\n",
      "5-1\n",
      "5-1 done\n",
      "6-1\n",
      "6-1 done\n",
      "7-1\n",
      "7-1 done\n",
      "1-2\n",
      "1-2 done\n",
      "13-2\n",
      "13-2 done\n",
      "14-1\n",
      "14-1 done\n",
      "15-1\n",
      "15-1 done\n",
      "16-1\n",
      "16-1 done\n",
      "17-1\n",
      "17-1 done\n",
      "18-1\n",
      "18-1 done\n",
      "19-1\n",
      "19-1 done\n",
      "19-2\n",
      "19-2 done\n",
      "2-2\n",
      "2-2 done\n",
      "20-1\n",
      "20-1 done\n",
      "22-1\n",
      "22-1 done\n",
      "23-1\n",
      "23-1 done\n",
      "24-1\n",
      "24-1 done\n",
      "25-1\n",
      "25-1 done\n",
      "26-1\n",
      "26-1 done\n",
      "28-1\n",
      "28-1 done\n",
      "29-1\n",
      "29-1 done\n",
      "3-2\n",
      "3-2 done\n",
      "30-1\n",
      "30-1 done\n",
      "32-1\n",
      "32-1 done\n",
      "33-1\n",
      "33-1 done\n",
      "35-1\n",
      "35-1 done\n",
      "36-1\n",
      "36-1 done\n",
      "37-1\n",
      "37-1 done\n",
      "4-1\n",
      "4-1 done\n",
      "9-1\n",
      "9-1 done\n",
      "14-3\n",
      "14-3 done\n",
      "15-3\n",
      "15-3 done\n",
      "19-3\n",
      "19-3 done\n",
      "22-3\n",
      "22-3 done\n",
      "25-3\n",
      "25-3 done\n",
      "31-3\n",
      "31-3 done\n",
      "38-3\n",
      "38-3 done\n",
      "4-3\n",
      "4-3 done\n",
      "40-3\n",
      "40-3 done\n",
      "41-1\n",
      "41-1 done\n",
      "41-2\n",
      "41-2 done\n",
      "8-2\n",
      "8-2 done\n",
      "10-2\n",
      "10-2 done\n",
      "11-1\n",
      "11-1 done\n",
      "12-2\n",
      "12-2 done\n",
      "13-3\n",
      "13-3 done\n",
      "14-2\n",
      "14-2 done\n",
      "15-2\n",
      "15-2 done\n",
      "16-2\n",
      "16-2 done\n",
      "17-2\n",
      "17-2 done\n",
      "18-2\n",
      "18-2 done\n",
      "20-2\n",
      "20-2 done\n",
      "21-2\n",
      "21-2 done\n",
      "22-2\n",
      "22-2 done\n",
      "23-2\n",
      "23-2 done\n",
      "24-2\n",
      "24-2 done\n",
      "25-2\n",
      "25-2 done\n",
      "26-2\n",
      "26-2 done\n",
      "28-2\n",
      "28-2 done\n",
      "29-2\n",
      "29-2 done\n",
      "30-2\n",
      "30-2 done\n",
      "31-1\n",
      "31-1 done\n",
      "31-2\n",
      "31-2 done\n",
      "32-2\n",
      "32-2 done\n",
      "33-2\n",
      "33-2 done\n",
      "34-1\n",
      "34-1 done\n",
      "34-2\n",
      "34-2 done\n",
      "35-2\n",
      "35-2 done\n",
      "36-2\n",
      "36-2 done\n",
      "37-2\n",
      "37-2 done\n",
      "38-1\n",
      "38-1 done\n",
      "38-2\n",
      "38-2 done\n",
      "39-1\n",
      "39-1 done\n",
      "39-2\n",
      "39-2 done\n",
      "40-1\n",
      "40-1 done\n",
      "40-2\n",
      "40-2 done\n",
      "5-2\n",
      "5-2 done\n",
      "6-2\n",
      "6-2 done\n",
      "7-2\n",
      "7-2 done\n",
      "8-1\n",
      "8-1 done\n",
      "9-2\n",
      "9-2 done\n"
     ]
    }
   ],
   "source": [
    "# initiate dataframes\n",
    "\n",
    "ind = collect(Iterators.product(collect(1:4), collect(-115:44))) |> vec\n",
    "\n",
    "# iterate through growth conditions\n",
    "for gc_ind in gcs\n",
    "    df_footprints = DataFrame()\n",
    "    df_exshift = DataFrame()\n",
    "    gc, info, rep = get_gc_info(gc_ind)\n",
    "    df = get_dataset(gc_ind)\n",
    "    println(gc_ind)\n",
    "    for (i, prom) in enumerate(unique(df.name))\n",
    "        wt_seq = df_wt[df_wt.promoter .== prom, :promoter_seq][1]\n",
    "        ind_wt = collect(Iterators.product(collect(1:4), collect(wt_seq))) |> vec\n",
    "        # get mutual information\n",
    "        x = wgregseq.footprints.mutual_information_mutation(df[df.name .== prom, :], vec=true)\n",
    "        # get expression shift\n",
    "        ex_shift = wgregseq.footprints.expression_shift_matrix(df[df.name .== prom, :], vec=true)\n",
    "        #ex_shift ./= maximum(abs.(ex_shift))\n",
    "        # add mutual information to dataframe\n",
    "        append!(\n",
    "            df_footprints,\n",
    "            DataFrame( \n",
    "                promoter=prom, \n",
    "                mut_info=x,\n",
    "                growth_condition=gc,\n",
    "                growth_condition_info=info,\n",
    "                replicate=rep, \n",
    "                pos=collect(-115:44), \n",
    "                d=\"0\")\n",
    "        )\n",
    "\n",
    "        append!(\n",
    "            df_exshift,\n",
    "            DataFrame( \n",
    "                promoter=prom, \n",
    "                expression_shift=ex_shift' |> vec , \n",
    "                growth_condition=gc,\n",
    "                growth_condition_info=info,\n",
    "                replicate=rep,\n",
    "                pos=[t[2] for t in ind],\n",
    "                base=[t[1] for t in ind],\n",
    "                wt_base=[t[2] for t in ind_wt]\n",
    "            )\n",
    "        )\n",
    "        for d in 1:2\n",
    "            append!(\n",
    "                df_footprints,\n",
    "                DataFrame( \n",
    "                    promoter=prom, \n",
    "                    mut_info=[mean(x[i-d:i+d]) for i in 1+d:160-d], \n",
    "                    growth_condition=gc,\n",
    "                    growth_condition_info=info,\n",
    "                    replicate=rep, \n",
    "                    pos=collect(-115+d:44-d), \n",
    "                    d=\"$d\"\n",
    "                )\n",
    "            )\n",
    "        end\n",
    "    end\n",
    "    println(\"$(gc_ind) done\")\n",
    "    CSV.write(\"footprints/$(gc_ind)_footprints.csv\", df_footprints)\n",
    "    CSV.write(\"expression_shifts/$(gc_ind)_exshifts.csv\", df_exshift)\n",
    "end"
   ]
  },
  {
   "cell_type": "code",
   "execution_count": 30,
   "id": "f9067f11-cc3d-4feb-995a-842281ba42f7",
   "metadata": {},
   "outputs": [
    {
     "data": {
      "text/plain": [
       "0"
      ]
     },
     "execution_count": 30,
     "metadata": {},
     "output_type": "execute_result"
    }
   ],
   "source": [
    "200%100"
   ]
  },
  {
   "attachments": {},
   "cell_type": "markdown",
   "id": "0cfd0fab-3b3b-48ae-9f45-dc8ba1e529c2",
   "metadata": {},
   "source": [
    "## Metadata"
   ]
  },
  {
   "cell_type": "code",
   "execution_count": 36,
   "id": "9f6787f2-5b79-435d-b563-e74655b45a51",
   "metadata": {},
   "outputs": [
    {
     "data": {
      "text/plain": [
       "\"AGCTTTTCATTCTGACTGCAACGGGCAATATGTCTCTGTGTGGATTAAAAAAAGAGTGTCTGATAGCAGCTTCTGAACTGGTTACCTGCCGTGAGTAAATTAAAATTTTATTGACTTAGGTCACTAAATACTTTAACCAATATAGGCATAGCGCACAGACAGATAAAAATTACAGAGTACACAACATCCATGAAACGCATTAGCACCACCATTACCACCACCATCACCATTACCACAGGTAACGGTGCGGGCTGACGCGTACAGGAAAC\" ⋯ 4641115 bytes ⋯ \"GATGGTCTATTGCTATCAATTAGCAACATTAATACAACAACCGGCGAAAAGTGATGCAACGGCAGACCAACATCAACTGCAAGCTTTACGCGAACGAGCCATGACATTGCTGACGACTCTGGCAGTGGCAGATGACATAAAACTGGTCGACTGGTTACAACAACGCCTGGGGCTTTTAGAGCAACGAGACACGGCAATGTTGCACCGTTTGCTGCATGATATTGAAAAAAATATCACCAAATAAAAAACGCCTTAGTAAGTATTTTTC\""
      ]
     },
     "metadata": {},
     "output_type": "display_data"
    }
   ],
   "source": [
    "df_twist = wgregseq.utils.import_twist_order(\"../../../data/twist_orders/2022-02-15_twist_order.csv\")\n",
    "unique(df_twist[!, [:genes, :promoter]])\n",
    "\n",
    "wt_seqs = df_twist[1:1501:end, :]\n",
    "\n",
    "# Import genome\n",
    "re = open(FASTA.Reader, \"../../../data/ecocyc/mg1655_genome.fasta\")\n",
    "wt_sequence = [sequence(record) for record in re][1]"
   ]
  },
  {
   "cell_type": "code",
   "execution_count": null,
   "id": "01868457-fbb0-4992-8fcc-fd77a757200b",
   "metadata": {},
   "outputs": [],
   "source": []
  },
  {
   "cell_type": "code",
   "execution_count": 37,
   "id": "ce6693f5-6a00-4d8f-9915-b8451d05a1f3",
   "metadata": {},
   "outputs": [
    {
     "data": {
      "text/plain": [
       "\"../../figures/interactive_footprints/20231207_footprints_meta.csv\""
      ]
     },
     "metadata": {},
     "output_type": "display_data"
    }
   ],
   "source": [
    "five_prime = []\n",
    "three_prime = []\n",
    "direction = []\n",
    "promoter = []\n",
    "genes = []\n",
    "promoter_seq = []\n",
    "for i in 1:119\n",
    "    fwd = findall(string(wt_seqs[i, :sequence][27:186]), string(wt_sequence))\n",
    "    rev = findall(reverse_complement(string(wt_seqs[i, :sequence][27:186])), string(wt_sequence))\n",
    "    if length(fwd) == 0 && length(rev) == 0\n",
    "        throw(ErrorException(\"Sequence not found for promoter $(wt_seqs[i, :promoter])!\"))\n",
    "    elseif length(fwd) > 0 && length(rev) > 0\n",
    "        throw(ErrorException(\"Sequence found on both strands for promoter $(wt_seqs[i, :promoter])!\"))\n",
    "    elseif length(fwd) > 0\n",
    "        push!(five_prime, fwd[1][1])\n",
    "        push!(three_prime, fwd[1][end])\n",
    "        push!(direction, '+')\n",
    "        push!(promoter, wt_seqs[i, :promoter])\n",
    "        push!(genes, join(wt_seqs[i, :genes], \", \"))\n",
    "        push!(promoter_seq, wt_seqs[i, :sequence][27:186])\n",
    "    else\n",
    "        push!(three_prime, rev[1][1])\n",
    "        push!(five_prime, rev[1][end])\n",
    "        push!(direction, '-')\n",
    "        push!(promoter, wt_seqs[i, :promoter])\n",
    "        push!(genes, join(wt_seqs[i, :genes], \", \"))\n",
    "        push!(promoter_seq, wt_seqs[i, :sequence][27:186])\n",
    "    end\n",
    "end\n",
    "\n",
    "df_meta = DataFrame(five_prime=five_prime, three_prime=three_prime, direction=direction, promoter=promoter, genes=genes, promoter_seq=promoter_seq)\n",
    "CSV.write(\"../../figures/interactive_footprints/20231207_footprints_meta.csv\", df_meta)"
   ]
  },
  {
   "cell_type": "code",
   "execution_count": null,
   "id": "15f71129-fced-4dc4-9cfd-0228f5d371d9",
   "metadata": {},
   "outputs": [],
   "source": []
  },
  {
   "cell_type": "code",
   "execution_count": 23,
   "id": "7a7c2968-dc88-4721-b975-772d279f0854",
   "metadata": {},
   "outputs": [
    {
     "data": {
      "text/plain": [
       "160×4 Matrix{Float64}:\n",
       " -0.0123678    0.0         0.0110704   -0.144165\n",
       "  0.0         -0.0659984  -0.197025     0.0153286\n",
       "  0.0475796   -0.122976    0.0          0.0621473\n",
       "  0.0244123    0.0         0.127499     0.126345\n",
       " -0.0727224    0.0         0.0506109   -0.212283\n",
       " -0.0747943    0.0         0.0393369   -0.0338808\n",
       "  0.0125881    0.0232832   0.0          0.137237\n",
       " -0.158869    -0.141819    0.0          0.109055\n",
       "  0.0         -0.191052   -0.163982    -0.147004\n",
       " -0.168698    -0.0555237   0.140353     0.0\n",
       "  0.0         -0.134414   -0.118038    -0.129217\n",
       " -0.239238    -0.205616    0.0381176    0.0\n",
       "  0.0475433   -0.0409218   0.0         -0.0517556\n",
       "  ⋮                                    \n",
       "  0.14341      0.0381539   0.0         -0.081123\n",
       " -0.138689     0.261078    0.0          0.136912\n",
       " -0.157404     0.192493    0.0         -0.0644231\n",
       "  0.0272601    0.0490106   0.0          0.0699887\n",
       " -0.0773604   -0.250685    0.0          0.0598548\n",
       "  0.108625     0.0         0.00454482   0.0750416\n",
       " -0.0807049   -0.0941283   0.0782553    0.0\n",
       "  0.0222692    0.119788    0.30549      0.0\n",
       " -0.00912049   0.154486    0.00502824   0.0\n",
       "  0.0          0.127588    0.163856     0.0504057\n",
       " -0.0776928   -0.0272524   0.134224     0.0\n",
       "  0.341022     0.0        -0.0734739    0.100574"
      ]
     },
     "execution_count": 23,
     "metadata": {},
     "output_type": "execute_result"
    }
   ],
   "source": [
    "df_ldr = get_dataset(\"3-1\")\n",
    "df_ldr = df_ldr[df_ldr.name .== \"ldrDp\", :]"
   ]
  },
  {
   "cell_type": "code",
   "execution_count": 26,
   "id": "c87ae4dd-3a9d-4592-8eb8-dbc82be5785c",
   "metadata": {},
   "outputs": [
    {
     "data": {
      "image/png": "[encoded data removed]",
      "text/html": [
       "<img width=1200 height=200 style='object-fit: contain; height: auto;' src=\"data:image/png;base64, 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\"/>"
      ]
     },
     "execution_count": 26,
     "metadata": {},
     "output_type": "execute_result"
    }
   ],
   "source": [
    "\n",
    "x = wgregseq.footprints.mutual_information_mutation(df_ldr)\n",
    "# get expression shift\n",
    "ex_shift = expression_shift_matrix(df_ldr)\n",
    "\n",
    "fig = Figure(size=(1200, 200))\n",
    "ax = Axis(fig[1, 1])\n",
    "barplot!(ax, -115:44, x)\n",
    "fig"
   ]
  },
  {
   "cell_type": "code",
   "execution_count": null,
   "id": "ea164053-b8ef-4cea-acea-62de9dc6dc7f",
   "metadata": {
    "editable": true,
    "slideshow": {
     "slide_type": ""
    },
    "tags": []
   },
   "outputs": [],
   "source": [
    "df_temp = df_ldr[df\n",
    "x = wgregseq.footprints.mutual_information_mutation(df_temp)\n",
    "# get expression shift\n",
    "ex_shift = expression_shift_matrix(df_ldr)\n",
    "\n",
    "fig = Figure(size=(1200, 300))\n",
    "ax = Axis(fig[1, 1])\n",
    "barplot!(ax, -115:44, x)\n",
    "fig"
   ]
  }
 ],
 "metadata": {
  "kernelspec": {
   "display_name": "Julia 1.10.5",
   "language": "julia",
   "name": "julia-1.10"
  },
  "language_info": {
   "file_extension": ".jl",
   "mimetype": "application/julia",
   "name": "julia",
   "version": "1.10.5"
  }
 },
 "nbformat": 4,
 "nbformat_minor": 5
}
